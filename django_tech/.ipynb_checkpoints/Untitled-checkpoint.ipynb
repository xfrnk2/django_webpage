{
 "cells": [
  {
   "cell_type": "code",
   "execution_count": 51,
   "metadata": {},
   "outputs": [],
   "source": [
    "import os\n",
    "os.environ['DJANGO_SETTINGS_MODULE'] = 'django_tech.settings'\n",
    "os.environ[\"DJANGO_ALLOW_ASYNC_UNSAFE\"] = \"true\"\n",
    "import django\n",
    "django.setup()"
   ]
  },
  {
   "cell_type": "code",
   "execution_count": 52,
   "metadata": {
    "scrolled": true
   },
   "outputs": [
    {
     "name": "stdout",
     "output_type": "stream",
     "text": [
      "SELECT \"blog1_post\".\"id\", \"blog1_post\".\"title\", \"blog1_post\".\"content\", \"blog1_post\".\"created_at\", \"blog1_post\".\"updated_at\", \"blog1_post\".\"photo\", \"blog1_post\".\"is_public\" FROM \"blog1_post\" ORDER BY \"blog1_post\".\"id\" DESC LIMIT 2\n"
     ]
    }
   ],
   "source": [
    "from blog1.models import Post\n",
    "qs = Post.objects.all().order_by('-id')[:2]\n",
    "print(qs.query)"
   ]
  },
  {
   "cell_type": "code",
   "execution_count": 53,
   "metadata": {
    "scrolled": true
   },
   "outputs": [
    {
     "name": "stdout",
     "output_type": "stream",
     "text": [
      "SELECT \"blog1_post\".\"id\", \"blog1_post\".\"title\", \"blog1_post\".\"content\", \"blog1_post\".\"created_at\", \"blog1_post\".\"updated_at\", \"blog1_post\".\"photo\", \"blog1_post\".\"is_public\" FROM \"blog1_post\" WHERE NOT (\"blog1_post\".\"content\" LIKE %내용% ESCAPE '\\') ORDER BY \"blog1_post\".\"id\" DESC\n"
     ]
    },
    {
     "data": {
      "text/plain": [
       "<QuerySet []>"
      ]
     },
     "execution_count": 53,
     "metadata": {},
     "output_type": "execute_result"
    }
   ],
   "source": [
    "query = \"내용\" # 검색어\n",
    "\n",
    "qs = Post.objects.all()\\\n",
    "    .exclude(content__icontains=query)\\\n",
    "    .order_by('-id')\n",
    "# qs = qs.filter(content__icontains=query)\n",
    "# qs = qs.filter(content__startswith=query)\n",
    "# qs = qs.filter(content__endswith=\"내용\")\n",
    "# qs = qs.order_by('-id')\n",
    "print(qs.query)\n",
    "qs"
   ]
  },
  {
   "cell_type": "code",
   "execution_count": 67,
   "metadata": {},
   "outputs": [
    {
     "data": {
      "text/plain": [
       "<QuerySet []>"
      ]
     },
     "execution_count": 67,
     "metadata": {},
     "output_type": "execute_result"
    }
   ],
   "source": [
    "qs = Post.objects.all()\n",
    "qs.none()"
   ]
  },
  {
   "cell_type": "code",
   "execution_count": null,
   "metadata": {},
   "outputs": [],
   "source": []
  },
  {
   "cell_type": "code",
   "execution_count": null,
   "metadata": {},
   "outputs": [],
   "source": []
  },
  {
   "cell_type": "code",
   "execution_count": null,
   "metadata": {},
   "outputs": [],
   "source": []
  }
 ],
 "metadata": {
  "kernelspec": {
   "display_name": "Python 3",
   "language": "python",
   "name": "python3"
  },
  "language_info": {
   "codemirror_mode": {
    "name": "ipython",
    "version": 3
   },
   "file_extension": ".py",
   "mimetype": "text/x-python",
   "name": "python",
   "nbconvert_exporter": "python",
   "pygments_lexer": "ipython3",
   "version": "3.8.1"
  }
 },
 "nbformat": 4,
 "nbformat_minor": 4
}
